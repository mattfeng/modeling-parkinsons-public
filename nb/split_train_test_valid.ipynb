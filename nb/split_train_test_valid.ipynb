{
 "cells": [
  {
   "cell_type": "markdown",
   "metadata": {},
   "source": [
    "# Split resized images into the train/valid/test directories"
   ]
  },
  {
   "cell_type": "markdown",
   "metadata": {},
   "source": [
    "## Imports"
   ]
  },
  {
   "cell_type": "code",
   "execution_count": 1,
   "metadata": {},
   "outputs": [],
   "source": [
    "import glob\n",
    "import os\n",
    "import sys\n",
    "import shutil\n",
    "import numpy as np\n",
    "import pandas as pd\n",
    "import nilearn.image as nim\n",
    "import nilearn.plotting as nip\n",
    "import sys\n",
    "sys.path.append(\"../scripts\")\n",
    "import dti as D\n",
    "\n",
    "from collections import defaultdict"
   ]
  },
  {
   "cell_type": "markdown",
   "metadata": {},
   "source": [
    "## Split and move resized images"
   ]
  },
  {
   "cell_type": "code",
   "execution_count": 21,
   "metadata": {},
   "outputs": [],
   "source": [
    "def read_pids(fname):\n",
    "    pids = set()\n",
    "    with open(fname) as f:\n",
    "        for line in f:\n",
    "            line = line.strip()\n",
    "            pids.add(line)\n",
    "    return pids\n",
    "\n",
    "# read in train, test, val splits\n",
    "control_train_pids = read_pids(\"/home/eager/modeling-parkinsons/v1/control_train_pids.dat\")\n",
    "control_valid_pids = read_pids(\"/home/eager/modeling-parkinsons/v1/control_valid_pids.dat\")\n",
    "control_test_pids = read_pids(\"/home/eager/modeling-parkinsons/v1/control_test_pids.dat\")\n",
    "\n",
    "pd_train_pids = read_pids(\"/home/eager/modeling-parkinsons/v1/pd_train_pids.dat\")\n",
    "pd_valid_pids = read_pids(\"/home/eager/modeling-parkinsons/v1/pd_valid_pids.dat\")\n",
    "pd_test_pids = read_pids(\"/home/eager/modeling-parkinsons/v1/pd_test_pids.dat\")"
   ]
  },
  {
   "cell_type": "markdown",
   "metadata": {
    "deletable": false,
    "editable": false,
    "run_control": {
     "frozen": true
    }
   },
   "source": [
    "### IXI Control"
   ]
  },
  {
   "cell_type": "code",
   "execution_count": 9,
   "metadata": {},
   "outputs": [
    {
     "name": "stdout",
     "output_type": "stream",
     "text": [
      "/home/eager/modeling-parkinsons/data/processed/ixi_dti_reshaped_control/IXI_0914_06_Guys_I0914000006.nii\n"
     ]
    }
   ],
   "source": [
    "IXI_CONTROL_RESHAPE_DIR = \"/home/eager/modeling-parkinsons/data/processed/ixi_dti_reshaped_control\"\n",
    "OUTPUT_BASE_DIR = \"/home/eager/modeling-parkinsons/data/training/dti\"\n",
    "\n",
    "ALL_IMG_FILES = glob.glob(f\"{IXI_CONTROL_RESHAPE_DIR}/*.nii\")\n",
    "print(ALL_IMG_FILES[0])"
   ]
  },
  {
   "cell_type": "code",
   "execution_count": 14,
   "metadata": {},
   "outputs": [],
   "source": [
    "for imgpath in ALL_IMG_FILES:\n",
    "    info = D.get_iminf_from_fpath(imgpath)\n",
    "    \n",
    "    if info.pid in control_train_pids:\n",
    "        dest = f\"{OUTPUT_BASE_DIR}/train/control\"\n",
    "    elif info.pid in control_valid_pids:\n",
    "        dest = f\"{OUTPUT_BASE_DIR}/valid/control\"\n",
    "    elif info.pid in control_test_pids:\n",
    "        dest = f\"{OUTPUT_BASE_DIR}/test/control\"\n",
    "    else:\n",
    "        print(f\"[err] the image `{imgpath}` belongs to none of train/valid/test\")\n",
    "        \n",
    "    #print(f\"{imgpath} -> {dest}\")\n",
    "    shutil.move(imgpath, dest)"
   ]
  },
  {
   "cell_type": "markdown",
   "metadata": {
    "deletable": false,
    "editable": false,
    "run_control": {
     "frozen": true
    }
   },
   "source": [
    "### PPMI Control"
   ]
  },
  {
   "cell_type": "code",
   "execution_count": 17,
   "metadata": {},
   "outputs": [
    {
     "name": "stdout",
     "output_type": "stream",
     "text": [
      "/home/eager/modeling-parkinsons/data/processed/ppmi_dti_reshaped_control/PPMI_3160_MR_DTI_gated__br_raw_20120409123157846_46_S146629_I296471.nii\n"
     ]
    }
   ],
   "source": [
    "PPMI_CONTROL_RESHAPE_DIR = \"/home/eager/modeling-parkinsons/data/processed/ppmi_dti_reshaped_control\"\n",
    "OUTPUT_BASE_DIR = \"/home/eager/modeling-parkinsons/data/training/dti\"\n",
    "\n",
    "ALL_IMG_FILES = glob.glob(f\"{PPMI_CONTROL_RESHAPE_DIR}/*.nii\")\n",
    "print(ALL_IMG_FILES[0])"
   ]
  },
  {
   "cell_type": "code",
   "execution_count": 19,
   "metadata": {},
   "outputs": [],
   "source": [
    "for imgpath in ALL_IMG_FILES:\n",
    "    info = D.get_iminf_from_fpath(imgpath)\n",
    "    \n",
    "    if info.pid in control_train_pids:\n",
    "        dest = f\"{OUTPUT_BASE_DIR}/train/control\"\n",
    "    elif info.pid in control_valid_pids:\n",
    "        dest = f\"{OUTPUT_BASE_DIR}/valid/control\"\n",
    "    elif info.pid in control_test_pids:\n",
    "        dest = f\"{OUTPUT_BASE_DIR}/test/control\"\n",
    "    else:\n",
    "        print(f\"[err] the image `{imgpath}` belongs to none of train/valid/test\")\n",
    "        \n",
    "#     print(f\"{imgpath} -> {dest}\")\n",
    "    shutil.move(imgpath, dest)"
   ]
  },
  {
   "cell_type": "markdown",
   "metadata": {
    "deletable": false,
    "editable": false,
    "run_control": {
     "frozen": true
    }
   },
   "source": [
    "### PPMI PD"
   ]
  },
  {
   "cell_type": "code",
   "execution_count": 25,
   "metadata": {},
   "outputs": [
    {
     "name": "stdout",
     "output_type": "stream",
     "text": [
      "/home/eager/modeling-parkinsons/data/processed/ppmi_dti_reshaped_pd/PPMI_3150_MR_DTI_gated__br_raw_20120409100616395_39_S146603_I296438.nii\n"
     ]
    }
   ],
   "source": [
    "PPMI_PD_RESHAPE_DIR = \"/home/eager/modeling-parkinsons/data/processed/ppmi_dti_reshaped_pd\"\n",
    "OUTPUT_BASE_DIR = \"/home/eager/modeling-parkinsons/data/training/dti\"\n",
    "\n",
    "ALL_IMG_FILES = glob.glob(f\"{PPMI_PD_RESHAPE_DIR}/*.nii\")\n",
    "print(ALL_IMG_FILES[0])"
   ]
  },
  {
   "cell_type": "code",
   "execution_count": 26,
   "metadata": {},
   "outputs": [],
   "source": [
    "for imgpath in ALL_IMG_FILES:\n",
    "    info = D.get_iminf_from_fpath(imgpath)\n",
    "    \n",
    "    if info.pid in pd_train_pids:\n",
    "        dest = f\"{OUTPUT_BASE_DIR}/train/pd\"\n",
    "    elif info.pid in pd_valid_pids:\n",
    "        dest = f\"{OUTPUT_BASE_DIR}/valid/pd\"\n",
    "    elif info.pid in pd_test_pids:\n",
    "        dest = f\"{OUTPUT_BASE_DIR}/test/pd\"\n",
    "    else:\n",
    "        print(f\"[err] the image `{imgpath}` belongs to none of train/valid/test\")\n",
    "        \n",
    "#    print(f\"{imgpath} -> {dest}\")\n",
    "    shutil.move(imgpath, dest)"
   ]
  },
  {
   "cell_type": "code",
   "execution_count": null,
   "metadata": {},
   "outputs": [],
   "source": []
  }
 ],
 "metadata": {
  "kernelspec": {
   "display_name": "Python 3",
   "language": "python",
   "name": "python3"
  },
  "language_info": {
   "codemirror_mode": {
    "name": "ipython",
    "version": 3
   },
   "file_extension": ".py",
   "mimetype": "text/x-python",
   "name": "python",
   "nbconvert_exporter": "python",
   "pygments_lexer": "ipython3",
   "version": "3.7.6"
  }
 },
 "nbformat": 4,
 "nbformat_minor": 4
}
