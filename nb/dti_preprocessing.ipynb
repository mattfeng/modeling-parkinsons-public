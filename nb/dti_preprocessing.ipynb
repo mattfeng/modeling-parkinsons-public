{
 "cells": [
  {
   "cell_type": "markdown",
   "metadata": {
    "deletable": false,
    "editable": false,
    "run_control": {
     "frozen": true
    }
   },
   "source": [
    "# Exploring and preprocessing DTI images"
   ]
  },
  {
   "cell_type": "code",
   "execution_count": 3,
   "metadata": {},
   "outputs": [
    {
     "name": "stdout",
     "output_type": "stream",
     "text": [
      "The autoreload extension is already loaded. To reload it, use:\n",
      "  %reload_ext autoreload\n"
     ]
    }
   ],
   "source": [
    "%load_ext autoreload\n",
    "%autoreload 2"
   ]
  },
  {
   "cell_type": "code",
   "execution_count": 35,
   "metadata": {},
   "outputs": [],
   "source": [
    "import sys\n",
    "\n",
    "sys.path.append(\"../scripts/\")\n",
    "\n",
    "import pandas as pd\n",
    "import matplotlib.pyplot as plt\n",
    "import seaborn as sns\n",
    "import random\n",
    "\n",
    "from dti import *"
   ]
  },
  {
   "cell_type": "markdown",
   "metadata": {
    "deletable": false,
    "editable": false,
    "run_control": {
     "frozen": true
    }
   },
   "source": [
    "## Looking at data distributions"
   ]
  },
  {
   "cell_type": "code",
   "execution_count": 7,
   "metadata": {},
   "outputs": [
    {
     "data": {
      "text/html": [
       "<div>\n",
       "<style scoped>\n",
       "    .dataframe tbody tr th:only-of-type {\n",
       "        vertical-align: middle;\n",
       "    }\n",
       "\n",
       "    .dataframe tbody tr th {\n",
       "        vertical-align: top;\n",
       "    }\n",
       "\n",
       "    .dataframe thead th {\n",
       "        text-align: right;\n",
       "    }\n",
       "</style>\n",
       "<table border=\"1\" class=\"dataframe\">\n",
       "  <thead>\n",
       "    <tr style=\"text-align: right;\">\n",
       "      <th></th>\n",
       "      <th>iid</th>\n",
       "      <th>pid</th>\n",
       "      <th>group</th>\n",
       "      <th>sex</th>\n",
       "      <th>age</th>\n",
       "      <th>visit</th>\n",
       "      <th>modality</th>\n",
       "      <th>desc</th>\n",
       "      <th>type</th>\n",
       "      <th>acq_date</th>\n",
       "      <th>fmt</th>\n",
       "    </tr>\n",
       "  </thead>\n",
       "  <tbody>\n",
       "    <tr>\n",
       "      <th>0</th>\n",
       "      <td>411215</td>\n",
       "      <td>4083</td>\n",
       "      <td>PD</td>\n",
       "      <td>M</td>\n",
       "      <td>46</td>\n",
       "      <td>1</td>\n",
       "      <td>DTI</td>\n",
       "      <td>EPI Corrected B0 map</td>\n",
       "      <td>Processed</td>\n",
       "      <td>2013-01-15</td>\n",
       "      <td>NiFTI</td>\n",
       "    </tr>\n",
       "    <tr>\n",
       "      <th>1</th>\n",
       "      <td>428590</td>\n",
       "      <td>4083</td>\n",
       "      <td>PD</td>\n",
       "      <td>M</td>\n",
       "      <td>47</td>\n",
       "      <td>5</td>\n",
       "      <td>DTI</td>\n",
       "      <td>EigenVal2-EPI</td>\n",
       "      <td>Processed</td>\n",
       "      <td>2014-01-13</td>\n",
       "      <td>NiFTI</td>\n",
       "    </tr>\n",
       "    <tr>\n",
       "      <th>2</th>\n",
       "      <td>411122</td>\n",
       "      <td>4083</td>\n",
       "      <td>PD</td>\n",
       "      <td>M</td>\n",
       "      <td>46</td>\n",
       "      <td>1</td>\n",
       "      <td>DTI</td>\n",
       "      <td>EigenVectors-EPI</td>\n",
       "      <td>Processed</td>\n",
       "      <td>2013-01-15</td>\n",
       "      <td>NRRD</td>\n",
       "    </tr>\n",
       "    <tr>\n",
       "      <th>3</th>\n",
       "      <td>428592</td>\n",
       "      <td>4083</td>\n",
       "      <td>PD</td>\n",
       "      <td>M</td>\n",
       "      <td>47</td>\n",
       "      <td>5</td>\n",
       "      <td>DTI</td>\n",
       "      <td>EigenVal1-MRI</td>\n",
       "      <td>Processed</td>\n",
       "      <td>2014-01-13</td>\n",
       "      <td>NiFTI</td>\n",
       "    </tr>\n",
       "    <tr>\n",
       "      <th>4</th>\n",
       "      <td>411129</td>\n",
       "      <td>4083</td>\n",
       "      <td>PD</td>\n",
       "      <td>M</td>\n",
       "      <td>46</td>\n",
       "      <td>1</td>\n",
       "      <td>DTI</td>\n",
       "      <td>EigenVectors-MRI</td>\n",
       "      <td>Processed</td>\n",
       "      <td>2013-01-15</td>\n",
       "      <td>NRRD</td>\n",
       "    </tr>\n",
       "    <tr>\n",
       "      <th>...</th>\n",
       "      <td>...</td>\n",
       "      <td>...</td>\n",
       "      <td>...</td>\n",
       "      <td>...</td>\n",
       "      <td>...</td>\n",
       "      <td>...</td>\n",
       "      <td>...</td>\n",
       "      <td>...</td>\n",
       "      <td>...</td>\n",
       "      <td>...</td>\n",
       "      <td>...</td>\n",
       "    </tr>\n",
       "    <tr>\n",
       "      <th>1561</th>\n",
       "      <td>428714</td>\n",
       "      <td>3108</td>\n",
       "      <td>PD</td>\n",
       "      <td>F</td>\n",
       "      <td>50</td>\n",
       "      <td>1</td>\n",
       "      <td>DTI</td>\n",
       "      <td>MD map-MRI</td>\n",
       "      <td>Processed</td>\n",
       "      <td>2011-04-20</td>\n",
       "      <td>NiFTI</td>\n",
       "    </tr>\n",
       "    <tr>\n",
       "      <th>1562</th>\n",
       "      <td>291593</td>\n",
       "      <td>3108</td>\n",
       "      <td>PD</td>\n",
       "      <td>F</td>\n",
       "      <td>50</td>\n",
       "      <td>1</td>\n",
       "      <td>DTI</td>\n",
       "      <td>EigenVal0-EPI</td>\n",
       "      <td>Processed</td>\n",
       "      <td>2011-04-20</td>\n",
       "      <td>NiFTI</td>\n",
       "    </tr>\n",
       "    <tr>\n",
       "      <th>1563</th>\n",
       "      <td>330469</td>\n",
       "      <td>3108</td>\n",
       "      <td>PD</td>\n",
       "      <td>F</td>\n",
       "      <td>50</td>\n",
       "      <td>1</td>\n",
       "      <td>DTI</td>\n",
       "      <td>EigenVal2-MRI</td>\n",
       "      <td>Processed</td>\n",
       "      <td>2011-04-20</td>\n",
       "      <td>NiFTI</td>\n",
       "    </tr>\n",
       "    <tr>\n",
       "      <th>1564</th>\n",
       "      <td>291581</td>\n",
       "      <td>3108</td>\n",
       "      <td>PD</td>\n",
       "      <td>F</td>\n",
       "      <td>50</td>\n",
       "      <td>1</td>\n",
       "      <td>DTI</td>\n",
       "      <td>EPI Corrected B0 map</td>\n",
       "      <td>Processed</td>\n",
       "      <td>2011-04-20</td>\n",
       "      <td>NiFTI</td>\n",
       "    </tr>\n",
       "    <tr>\n",
       "      <th>1565</th>\n",
       "      <td>428032</td>\n",
       "      <td>3108</td>\n",
       "      <td>PD</td>\n",
       "      <td>F</td>\n",
       "      <td>50</td>\n",
       "      <td>1</td>\n",
       "      <td>DTI</td>\n",
       "      <td>EigenVal1-MRI</td>\n",
       "      <td>Processed</td>\n",
       "      <td>2011-04-20</td>\n",
       "      <td>NiFTI</td>\n",
       "    </tr>\n",
       "  </tbody>\n",
       "</table>\n",
       "<p>1566 rows × 11 columns</p>\n",
       "</div>"
      ],
      "text/plain": [
       "         iid   pid group sex  age  visit modality                  desc  \\\n",
       "0     411215  4083    PD   M   46      1      DTI  EPI Corrected B0 map   \n",
       "1     428590  4083    PD   M   47      5      DTI         EigenVal2-EPI   \n",
       "2     411122  4083    PD   M   46      1      DTI      EigenVectors-EPI   \n",
       "3     428592  4083    PD   M   47      5      DTI         EigenVal1-MRI   \n",
       "4     411129  4083    PD   M   46      1      DTI      EigenVectors-MRI   \n",
       "...      ...   ...   ...  ..  ...    ...      ...                   ...   \n",
       "1561  428714  3108    PD   F   50      1      DTI            MD map-MRI   \n",
       "1562  291593  3108    PD   F   50      1      DTI         EigenVal0-EPI   \n",
       "1563  330469  3108    PD   F   50      1      DTI         EigenVal2-MRI   \n",
       "1564  291581  3108    PD   F   50      1      DTI  EPI Corrected B0 map   \n",
       "1565  428032  3108    PD   F   50      1      DTI         EigenVal1-MRI   \n",
       "\n",
       "           type   acq_date    fmt  \n",
       "0     Processed 2013-01-15  NiFTI  \n",
       "1     Processed 2014-01-13  NiFTI  \n",
       "2     Processed 2013-01-15   NRRD  \n",
       "3     Processed 2014-01-13  NiFTI  \n",
       "4     Processed 2013-01-15   NRRD  \n",
       "...         ...        ...    ...  \n",
       "1561  Processed 2011-04-20  NiFTI  \n",
       "1562  Processed 2011-04-20  NiFTI  \n",
       "1563  Processed 2011-04-20  NiFTI  \n",
       "1564  Processed 2011-04-20  NiFTI  \n",
       "1565  Processed 2011-04-20  NiFTI  \n",
       "\n",
       "[1566 rows x 11 columns]"
      ]
     },
     "execution_count": 7,
     "metadata": {},
     "output_type": "execute_result"
    }
   ],
   "source": [
    "metadf = prep_meta_df(pd.read_csv(\"../data/meta/dti_preprocessed_control,pd_meta.csv\"))\n",
    "metadf"
   ]
  },
  {
   "cell_type": "code",
   "execution_count": 8,
   "metadata": {},
   "outputs": [
    {
     "data": {
      "text/plain": [
       "1566"
      ]
     },
     "execution_count": 8,
     "metadata": {},
     "output_type": "execute_result"
    }
   ],
   "source": [
    "len(metadf)"
   ]
  },
  {
   "cell_type": "code",
   "execution_count": 9,
   "metadata": {
    "scrolled": false
   },
   "outputs": [
    {
     "data": {
      "text/plain": [
       "(array([ 28.,  18.,  36.,   0.,   0.,   0.,   0.,   0.,   0.,  28.,  64.,\n",
       "        146.,   0.,  64., 110.,  90.,   0.,  64., 136., 118.,   0., 100.,\n",
       "         72., 218., 274.]),\n",
       " array([31.  , 31.76, 32.52, 33.28, 34.04, 34.8 , 35.56, 36.32, 37.08,\n",
       "        37.84, 38.6 , 39.36, 40.12, 40.88, 41.64, 42.4 , 43.16, 43.92,\n",
       "        44.68, 45.44, 46.2 , 46.96, 47.72, 48.48, 49.24, 50.  ]),\n",
       " <a list of 25 Patch objects>)"
      ]
     },
     "execution_count": 9,
     "metadata": {},
     "output_type": "execute_result"
    },
    {
     "data": {
      "image/png": "[encoded data removed]",
      "text/plain": [
       "<Figure size 432x288 with 1 Axes>"
      ]
     },
     "metadata": {
      "needs_background": "light"
     },
     "output_type": "display_data"
    }
   ],
   "source": [
    "plt.hist(metadf[\"age\"], bins=25)"
   ]
  },
  {
   "cell_type": "code",
   "execution_count": 10,
   "metadata": {},
   "outputs": [
    {
     "data": {
      "text/plain": [
       "PD         972\n",
       "Control    594\n",
       "Name: group, dtype: int64"
      ]
     },
     "execution_count": 10,
     "metadata": {},
     "output_type": "execute_result"
    }
   ],
   "source": [
    "metadf[\"group\"].value_counts()"
   ]
  },
  {
   "cell_type": "code",
   "execution_count": 11,
   "metadata": {},
   "outputs": [
    {
     "data": {
      "text/plain": [
       "M    1230\n",
       "F     336\n",
       "Name: sex, dtype: int64"
      ]
     },
     "execution_count": 11,
     "metadata": {},
     "output_type": "execute_result"
    }
   ],
   "source": [
    "metadf[\"sex\"].value_counts()"
   ]
  },
  {
   "cell_type": "code",
   "execution_count": 12,
   "metadata": {},
   "outputs": [
    {
     "name": "stdout",
     "output_type": "stream",
     "text": [
      "Number of unique subjects: 39\n",
      "Number of unique controls: 14\n",
      "Number of unique PD: 25\n"
     ]
    }
   ],
   "source": [
    "print(\"Number of unique subjects:\", metadf[\"pid\"].nunique())\n",
    "print(\"Number of unique controls:\", metadf[metadf[\"group\"] == \"Control\"][\"pid\"].nunique())\n",
    "print(\"Number of unique PD:\", metadf[metadf[\"group\"] == \"PD\"][\"pid\"].nunique())"
   ]
  },
  {
   "cell_type": "code",
   "execution_count": 13,
   "metadata": {
    "scrolled": true
   },
   "outputs": [
    {
     "data": {
      "text/plain": [
       "EigenVal1-EPI           95\n",
       "MD map-EPI              95\n",
       "EigenVal2-EPI           95\n",
       "EigenVal0-EPI           95\n",
       "EigenVectors-EPI        95\n",
       "FA map-EPI              95\n",
       "RGB color map-EPI       95\n",
       "4D DWI                  95\n",
       "DTI Full Tensors-EPI    95\n",
       "EPI Corrected B0 map    95\n",
       "FA map-MRI              77\n",
       "MD map-MRI              77\n",
       "EigenVal0-MRI           77\n",
       "EigenVal2-MRI           77\n",
       "RGB color map-MRI       77\n",
       "DTI Full Tensors-MRI    77\n",
       "EigenVectors-MRI        77\n",
       "EigenVal1-MRI           77\n",
       "Name: desc, dtype: int64"
      ]
     },
     "execution_count": 13,
     "metadata": {},
     "output_type": "execute_result"
    }
   ],
   "source": [
    "metadf[\"desc\"].value_counts()"
   ]
  },
  {
   "cell_type": "markdown",
   "metadata": {},
   "source": [
    "## Looking at the metadata for the original DTI images"
   ]
  },
  {
   "cell_type": "code",
   "execution_count": 78,
   "metadata": {},
   "outputs": [
    {
     "name": "stdout",
     "output_type": "stream",
     "text": [
      "Not dropping non-existent column `dl`\n"
     ]
    },
    {
     "data": {
      "text/html": [
       "<div>\n",
       "<style scoped>\n",
       "    .dataframe tbody tr th:only-of-type {\n",
       "        vertical-align: middle;\n",
       "    }\n",
       "\n",
       "    .dataframe tbody tr th {\n",
       "        vertical-align: top;\n",
       "    }\n",
       "\n",
       "    .dataframe thead th {\n",
       "        text-align: right;\n",
       "    }\n",
       "</style>\n",
       "<table border=\"1\" class=\"dataframe\">\n",
       "  <thead>\n",
       "    <tr style=\"text-align: right;\">\n",
       "      <th></th>\n",
       "      <th>iid</th>\n",
       "      <th>pid</th>\n",
       "      <th>group</th>\n",
       "      <th>sex</th>\n",
       "      <th>age</th>\n",
       "      <th>visit</th>\n",
       "      <th>modality</th>\n",
       "      <th>desc</th>\n",
       "      <th>type</th>\n",
       "      <th>acq_date</th>\n",
       "      <th>fmt</th>\n",
       "    </tr>\n",
       "  </thead>\n",
       "  <tbody>\n",
       "    <tr>\n",
       "      <th>0</th>\n",
       "      <td>226465</td>\n",
       "      <td>PPMI3557</td>\n",
       "      <td>PD</td>\n",
       "      <td>M</td>\n",
       "      <td>59</td>\n",
       "      <td>1</td>\n",
       "      <td>DTI</td>\n",
       "      <td>TRIGGERED DTI</td>\n",
       "      <td>Original</td>\n",
       "      <td>2010-12-22</td>\n",
       "      <td>DCM</td>\n",
       "    </tr>\n",
       "    <tr>\n",
       "      <th>1</th>\n",
       "      <td>495186</td>\n",
       "      <td>PPMI41519</td>\n",
       "      <td>GenCohort PD</td>\n",
       "      <td>F</td>\n",
       "      <td>71</td>\n",
       "      <td>1</td>\n",
       "      <td>DTI</td>\n",
       "      <td>TRA/DUAL</td>\n",
       "      <td>Original</td>\n",
       "      <td>2015-03-13</td>\n",
       "      <td>DCM</td>\n",
       "    </tr>\n",
       "    <tr>\n",
       "      <th>2</th>\n",
       "      <td>495188</td>\n",
       "      <td>PPMI41519</td>\n",
       "      <td>GenCohort PD</td>\n",
       "      <td>F</td>\n",
       "      <td>71</td>\n",
       "      <td>1</td>\n",
       "      <td>DTI</td>\n",
       "      <td>TRA/DUAL</td>\n",
       "      <td>Original</td>\n",
       "      <td>2015-03-13</td>\n",
       "      <td>DCM</td>\n",
       "    </tr>\n",
       "    <tr>\n",
       "      <th>3</th>\n",
       "      <td>880677</td>\n",
       "      <td>PPMI42264</td>\n",
       "      <td>GenCohort PD</td>\n",
       "      <td>F</td>\n",
       "      <td>65</td>\n",
       "      <td>1</td>\n",
       "      <td>DTI</td>\n",
       "      <td>T2</td>\n",
       "      <td>Original</td>\n",
       "      <td>2016-12-02</td>\n",
       "      <td>DCM</td>\n",
       "    </tr>\n",
       "    <tr>\n",
       "      <th>4</th>\n",
       "      <td>507861</td>\n",
       "      <td>PPMI41522</td>\n",
       "      <td>GenCohort PD</td>\n",
       "      <td>F</td>\n",
       "      <td>58</td>\n",
       "      <td>1</td>\n",
       "      <td>DTI</td>\n",
       "      <td>T2</td>\n",
       "      <td>Original</td>\n",
       "      <td>2015-06-10</td>\n",
       "      <td>DCM</td>\n",
       "    </tr>\n",
       "    <tr>\n",
       "      <th>...</th>\n",
       "      <td>...</td>\n",
       "      <td>...</td>\n",
       "      <td>...</td>\n",
       "      <td>...</td>\n",
       "      <td>...</td>\n",
       "      <td>...</td>\n",
       "      <td>...</td>\n",
       "      <td>...</td>\n",
       "      <td>...</td>\n",
       "      <td>...</td>\n",
       "      <td>...</td>\n",
       "    </tr>\n",
       "    <tr>\n",
       "      <th>2600</th>\n",
       "      <td>467146</td>\n",
       "      <td>PPMI08819NOV14</td>\n",
       "      <td>Phantom</td>\n",
       "      <td>F</td>\n",
       "      <td>65</td>\n",
       "      <td>0</td>\n",
       "      <td>DTI</td>\n",
       "      <td>DTI</td>\n",
       "      <td>Original</td>\n",
       "      <td>2014-11-19</td>\n",
       "      <td>DCM</td>\n",
       "    </tr>\n",
       "    <tr>\n",
       "      <th>2601</th>\n",
       "      <td>436131</td>\n",
       "      <td>PPMI01202JUL14</td>\n",
       "      <td>Phantom</td>\n",
       "      <td>X</td>\n",
       "      <td>54</td>\n",
       "      <td>0</td>\n",
       "      <td>DTI</td>\n",
       "      <td>DTI</td>\n",
       "      <td>Original</td>\n",
       "      <td>2014-07-02</td>\n",
       "      <td>DCM</td>\n",
       "    </tr>\n",
       "    <tr>\n",
       "      <th>2602</th>\n",
       "      <td>367537</td>\n",
       "      <td>PPMI12001APR13</td>\n",
       "      <td>Phantom</td>\n",
       "      <td>F</td>\n",
       "      <td>53</td>\n",
       "      <td>0</td>\n",
       "      <td>DTI</td>\n",
       "      <td>DTI</td>\n",
       "      <td>Original</td>\n",
       "      <td>2013-04-01</td>\n",
       "      <td>DCM</td>\n",
       "    </tr>\n",
       "    <tr>\n",
       "      <th>2603</th>\n",
       "      <td>414254</td>\n",
       "      <td>PPMI29005NOV13</td>\n",
       "      <td>Phantom</td>\n",
       "      <td>X</td>\n",
       "      <td>53</td>\n",
       "      <td>0</td>\n",
       "      <td>DTI</td>\n",
       "      <td>DTI</td>\n",
       "      <td>Original</td>\n",
       "      <td>2013-11-05</td>\n",
       "      <td>DCM</td>\n",
       "    </tr>\n",
       "    <tr>\n",
       "      <th>2604</th>\n",
       "      <td>473139</td>\n",
       "      <td>PPMI29013JAN15</td>\n",
       "      <td>Phantom</td>\n",
       "      <td>X</td>\n",
       "      <td>55</td>\n",
       "      <td>0</td>\n",
       "      <td>DTI</td>\n",
       "      <td>DTI</td>\n",
       "      <td>Original</td>\n",
       "      <td>2015-01-13</td>\n",
       "      <td>DCM</td>\n",
       "    </tr>\n",
       "  </tbody>\n",
       "</table>\n",
       "<p>2605 rows × 11 columns</p>\n",
       "</div>"
      ],
      "text/plain": [
       "         iid             pid         group sex  age  visit modality  \\\n",
       "0     226465        PPMI3557            PD   M   59      1      DTI   \n",
       "1     495186       PPMI41519  GenCohort PD   F   71      1      DTI   \n",
       "2     495188       PPMI41519  GenCohort PD   F   71      1      DTI   \n",
       "3     880677       PPMI42264  GenCohort PD   F   65      1      DTI   \n",
       "4     507861       PPMI41522  GenCohort PD   F   58      1      DTI   \n",
       "...      ...             ...           ...  ..  ...    ...      ...   \n",
       "2600  467146  PPMI08819NOV14       Phantom   F   65      0      DTI   \n",
       "2601  436131  PPMI01202JUL14       Phantom   X   54      0      DTI   \n",
       "2602  367537  PPMI12001APR13       Phantom   F   53      0      DTI   \n",
       "2603  414254  PPMI29005NOV13       Phantom   X   53      0      DTI   \n",
       "2604  473139  PPMI29013JAN15       Phantom   X   55      0      DTI   \n",
       "\n",
       "               desc      type   acq_date  fmt  \n",
       "0     TRIGGERED DTI  Original 2010-12-22  DCM  \n",
       "1          TRA/DUAL  Original 2015-03-13  DCM  \n",
       "2          TRA/DUAL  Original 2015-03-13  DCM  \n",
       "3                T2  Original 2016-12-02  DCM  \n",
       "4                T2  Original 2015-06-10  DCM  \n",
       "...             ...       ...        ...  ...  \n",
       "2600            DTI  Original 2014-11-19  DCM  \n",
       "2601            DTI  Original 2014-07-02  DCM  \n",
       "2602            DTI  Original 2013-04-01  DCM  \n",
       "2603            DTI  Original 2013-11-05  DCM  \n",
       "2604            DTI  Original 2015-01-13  DCM  \n",
       "\n",
       "[2605 rows x 11 columns]"
      ]
     },
     "execution_count": 78,
     "metadata": {},
     "output_type": "execute_result"
    }
   ],
   "source": [
    "allmetadf = prep_meta_df(pd.read_csv(\"../data/meta/dti_all_original_meta_preprocess.csv\"))\n",
    "allmetadf"
   ]
  },
  {
   "cell_type": "markdown",
   "metadata": {
    "deletable": false,
    "editable": false,
    "run_control": {
     "frozen": true
    }
   },
   "source": [
    "## Getting unique patients and images"
   ]
  },
  {
   "cell_type": "code",
   "execution_count": 79,
   "metadata": {},
   "outputs": [],
   "source": [
    "control_pids = set(allmetadf[allmetadf[\"group\"] == \"Control\"][\"pid\"])"
   ]
  },
  {
   "cell_type": "code",
   "execution_count": 80,
   "metadata": {},
   "outputs": [],
   "source": [
    "pd_pids = set(allmetadf[allmetadf[\"group\"] == \"PD\"][\"pid\"])"
   ]
  },
  {
   "cell_type": "code",
   "execution_count": 81,
   "metadata": {},
   "outputs": [],
   "source": [
    "control_iids = set(allmetadf[allmetadf[\"group\"] == \"Control\"][\"iid\"])"
   ]
  },
  {
   "cell_type": "code",
   "execution_count": 82,
   "metadata": {},
   "outputs": [],
   "source": [
    "pd_iids = set(allmetadf[allmetadf[\"group\"] == \"PD\"][\"iid\"])"
   ]
  },
  {
   "cell_type": "markdown",
   "metadata": {
    "deletable": false,
    "editable": false,
    "run_control": {
     "frozen": true
    }
   },
   "source": [
    "## Split into train, val, and test splits for CONTROLS using PID"
   ]
  },
  {
   "cell_type": "code",
   "execution_count": 88,
   "metadata": {},
   "outputs": [],
   "source": [
    "train_frac = 0.7\n",
    "val_frac = 0.15\n",
    "test_frac = 0.15\n",
    "\n",
    "def split_dataset(ids, train_frac, val_frac, test_frac):\n",
    "    ids = set(ids)\n",
    "    N = len(ids)\n",
    "    \n",
    "    train_num = int(train_frac * N)\n",
    "    val_num = int(val_frac * N)\n",
    "    \n",
    "    train_ids = set(random.sample(ids, k=train_num))\n",
    "    ids -= train_ids\n",
    "    val_ids = set(random.sample(ids, k=val_num))\n",
    "    ids -= val_ids\n",
    "    test_ids = ids\n",
    "    \n",
    "    return train_ids, val_ids, test_ids\n",
    "    \n",
    "ppmi_control_train, ppmi_control_val, ppmi_control_test = split_dataset(\n",
    "    control_pids,\n",
    "    train_frac,\n",
    "    val_frac,\n",
    "    test_frac)"
   ]
  },
  {
   "cell_type": "code",
   "execution_count": 89,
   "metadata": {},
   "outputs": [
    {
     "data": {
      "text/plain": [
       "224"
      ]
     },
     "execution_count": 89,
     "metadata": {},
     "output_type": "execute_result"
    }
   ],
   "source": [
    "len(allmetadf[allmetadf[\"pid\"].isin(control_train)])"
   ]
  },
  {
   "cell_type": "markdown",
   "metadata": {
    "deletable": false,
    "editable": false,
    "run_control": {
     "frozen": true
    }
   },
   "source": [
    "## Setting up train/test/valid split for IXI data"
   ]
  },
  {
   "cell_type": "code",
   "execution_count": 90,
   "metadata": {},
   "outputs": [],
   "source": [
    "IXI_DATA_PATH = \"/home/eager/modeling-parkinsons/data/processed/ixi_dti_reshaped_control/\"\n",
    "ALL_IXI_IMG_PATHS = glob.glob(f\"{IXI_DATA_PATH}/*.nii\")"
   ]
  },
  {
   "cell_type": "code",
   "execution_count": 91,
   "metadata": {},
   "outputs": [],
   "source": [
    "all_ixi_pids = set()\n",
    "\n",
    "for imgpath in ALL_IXI_IMG_PATHS:\n",
    "    info = get_iminf_from_fpath(imgpath)\n",
    "    all_ixi_pids.add(info.pid)"
   ]
  },
  {
   "cell_type": "code",
   "execution_count": 92,
   "metadata": {},
   "outputs": [
    {
     "data": {
      "text/plain": [
       "400"
      ]
     },
     "execution_count": 92,
     "metadata": {},
     "output_type": "execute_result"
    }
   ],
   "source": [
    "len(all_ixi_pids)"
   ]
  },
  {
   "cell_type": "code",
   "execution_count": 93,
   "metadata": {},
   "outputs": [],
   "source": [
    "ixi_train, ixi_val, ixi_test = split_dataset(all_ixi_pids, train_frac, val_frac, test_frac)"
   ]
  },
  {
   "cell_type": "code",
   "execution_count": 94,
   "metadata": {},
   "outputs": [
    {
     "data": {
      "text/plain": [
       "280"
      ]
     },
     "execution_count": 94,
     "metadata": {},
     "output_type": "execute_result"
    }
   ],
   "source": [
    "len(ixi_train)"
   ]
  },
  {
   "cell_type": "code",
   "execution_count": 95,
   "metadata": {},
   "outputs": [
    {
     "data": {
      "text/plain": [
       "60"
      ]
     },
     "execution_count": 95,
     "metadata": {},
     "output_type": "execute_result"
    }
   ],
   "source": [
    "len(ixi_val)"
   ]
  },
  {
   "cell_type": "code",
   "execution_count": 96,
   "metadata": {},
   "outputs": [
    {
     "data": {
      "text/plain": [
       "60"
      ]
     },
     "execution_count": 96,
     "metadata": {},
     "output_type": "execute_result"
    }
   ],
   "source": [
    "len(ixi_test)"
   ]
  },
  {
   "cell_type": "markdown",
   "metadata": {
    "deletable": false,
    "editable": false,
    "run_control": {
     "frozen": true
    }
   },
   "source": [
    "## Save CONTROLS PIDs to files"
   ]
  },
  {
   "cell_type": "code",
   "execution_count": 100,
   "metadata": {},
   "outputs": [],
   "source": [
    "all_control_train = ppmi_control_train | ixi_train\n",
    "all_control_test = ppmi_control_test | ixi_test\n",
    "all_control_valid = ppmi_control_val | ixi_val"
   ]
  },
  {
   "cell_type": "code",
   "execution_count": 102,
   "metadata": {},
   "outputs": [],
   "source": [
    "def pids_to_file(ofname, pids):\n",
    "    with open(ofname, \"w\") as f:\n",
    "        for pid in pids:\n",
    "            f.write(f\"{pid}\\n\")"
   ]
  },
  {
   "cell_type": "code",
   "execution_count": 106,
   "metadata": {},
   "outputs": [],
   "source": [
    "#pids_to_file(\"/home/eager/modeling-parkinsons/control_train_pids.dat\", all_control_train)\n",
    "#pids_to_file(\"/home/eager/modeling-parkinsons/control_valid_pids.dat\", all_control_valid)\n",
    "#pids_to_file(\"/home/eager/modeling-parkinsons/control_test_pids.dat\", all_control_test)"
   ]
  },
  {
   "cell_type": "markdown",
   "metadata": {
    "deletable": false,
    "editable": false,
    "run_control": {
     "frozen": true
    }
   },
   "source": [
    "## Split PD PIDs into Train/Valid/Test"
   ]
  },
  {
   "cell_type": "code",
   "execution_count": 110,
   "metadata": {},
   "outputs": [],
   "source": [
    "# extract the available PIDs by looking at the image files and seeing\n",
    "# which patients we have extracting data for\n",
    "\n",
    "PD_DATA_SRC = \"/home/eager/modeling-parkinsons/data/raw/ppmi_dti_pd/\"\n",
    "PD_ALL_IMG_PATHS = glob.glob(f\"{PD_DATA_SRC}/*.nii\")"
   ]
  },
  {
   "cell_type": "code",
   "execution_count": 113,
   "metadata": {},
   "outputs": [],
   "source": [
    "all_pd_pids = set()\n",
    "\n",
    "for imgpath in PD_ALL_IMG_PATHS:\n",
    "    info = get_iminf_from_fpath(imgpath)\n",
    "    all_pd_pids.add(info.pid)"
   ]
  },
  {
   "cell_type": "code",
   "execution_count": 116,
   "metadata": {},
   "outputs": [],
   "source": [
    "pd_train, pd_val, pd_test = split_dataset(all_pd_pids, train_frac, val_frac, test_frac)"
   ]
  },
  {
   "cell_type": "code",
   "execution_count": 119,
   "metadata": {},
   "outputs": [
    {
     "data": {
      "text/plain": [
       "23"
      ]
     },
     "execution_count": 119,
     "metadata": {},
     "output_type": "execute_result"
    }
   ],
   "source": [
    "len(pd_test)"
   ]
  },
  {
   "cell_type": "code",
   "execution_count": 123,
   "metadata": {},
   "outputs": [],
   "source": [
    "#pids_to_file(\"/home/eager/modeling-parkinsons/v1/pd_train_pids.dat\", pd_train)\n",
    "#pids_to_file(\"/home/eager/modeling-parkinsons/v1/pd_valid_pids.dat\", pd_val)\n",
    "#pids_to_file(\"/home/eager/modeling-parkinsons/v1/pd_test_pids.dat\", pd_test)"
   ]
  },
  {
   "cell_type": "code",
   "execution_count": null,
   "metadata": {},
   "outputs": [],
   "source": []
  }
 ],
 "metadata": {
  "@webio": {
   "lastCommId": null,
   "lastKernelId": null
  },
  "kernelspec": {
   "display_name": "Python 3",
   "language": "python",
   "name": "python3"
  },
  "language_info": {
   "codemirror_mode": {
    "name": "ipython",
    "version": 3
   },
   "file_extension": ".py",
   "mimetype": "text/x-python",
   "name": "python",
   "nbconvert_exporter": "python",
   "pygments_lexer": "ipython3",
   "version": "3.7.6"
  }
 },
 "nbformat": 4,
 "nbformat_minor": 4
}
